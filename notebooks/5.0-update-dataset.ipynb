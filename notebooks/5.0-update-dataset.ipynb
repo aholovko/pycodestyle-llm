{
 "cells": [
  {
   "metadata": {},
   "cell_type": "markdown",
   "source": "# Process dataset 2.0",
   "id": "bf8d3cfe876ce65c"
  },
  {
   "metadata": {},
   "cell_type": "code",
   "source": [
    "from datasets import load_dataset\n",
    "\n",
    "ds = load_dataset(\"aholovko/pep8_code_indentation_small\")\n",
    "ds"
   ],
   "id": "668e9b1559282d18",
   "outputs": [],
   "execution_count": null
  },
  {
   "metadata": {},
   "cell_type": "code",
   "source": [
    "df_train = ds['train'].to_pandas()\n",
    "df_train.head()"
   ],
   "id": "7d93b34a45c8b5a5",
   "outputs": [],
   "execution_count": null
  },
  {
   "metadata": {},
   "cell_type": "code",
   "source": [
    "from pep8_checker import check_compliance\n",
    "\n",
    "snippet = df_train[\"code\"][2]\n",
    "print(snippet)\n",
    "\n",
    "check_compliance(snippet)"
   ],
   "id": "47837ef72fb03fc9",
   "outputs": [],
   "execution_count": null
  }
 ],
 "metadata": {
  "kernelspec": {
   "display_name": "Python 3",
   "language": "python",
   "name": "python3"
  },
  "language_info": {
   "codemirror_mode": {
    "name": "ipython",
    "version": 2
   },
   "file_extension": ".py",
   "mimetype": "text/x-python",
   "name": "python",
   "nbconvert_exporter": "python",
   "pygments_lexer": "ipython2",
   "version": "2.7.6"
  }
 },
 "nbformat": 4,
 "nbformat_minor": 5
}
