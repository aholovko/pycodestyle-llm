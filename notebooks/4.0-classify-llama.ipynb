{
 "cells": [
  {
   "metadata": {},
   "cell_type": "markdown",
   "source": "# Classification with fine-tuned model",
   "id": "ead6d0667dca7b5d"
  },
  {
   "metadata": {},
   "cell_type": "code",
   "source": [
    "from transformers import pipeline\n",
    "from transformers import LlamaForSequenceClassification, LlamaTokenizer\n",
    "\n",
    "model_id = \"meta-llama/Llama-2-7b-hf\"\n",
    "\n",
    "model = LlamaForSequenceClassification.from_pretrained(model_id)\n",
    "model.load_adapter(\"../llama-tuned\", adapter_name=\"llama-fine-tuned\", device_map=\"mps\")\n",
    "model.set_adapter(\"llama-fine-tuned\")\n",
    "\n",
    "tokenizer = LlamaTokenizer.from_pretrained(model_id)\n",
    "\n",
    "classifier = pipeline(task=\"text-classification\", model=model, tokenizer=tokenizer, device_map='mps')"
   ],
   "id": "aed2efba2c1a5911",
   "outputs": [],
   "execution_count": null
  },
  {
   "metadata": {},
   "cell_type": "code",
   "source": "print(model)",
   "id": "643ab47be8303dfc",
   "outputs": [],
   "execution_count": null
  },
  {
   "metadata": {},
   "cell_type": "code",
   "source": [
    "code = \"\"\"def foo(x): if x > 0: return 'positive' else: return 'non-positive'\"\"\"\n",
    "\n",
    "classifier(code)"
   ],
   "id": "3e4fb2b57f77e0f8",
   "outputs": [],
   "execution_count": null
  },
  {
   "metadata": {},
   "cell_type": "code",
   "source": [
    "from datasets import load_dataset\n",
    "\n",
    "ds = load_dataset(\"aholovko/pep8_indentation_compliance\", split=\"train\")\n",
    "df = ds.to_pandas()\n",
    "df.head(n=20)"
   ],
   "id": "b1b1c4376e553334",
   "outputs": [],
   "execution_count": null
  },
  {
   "metadata": {},
   "cell_type": "code",
   "source": [
    "sample1 = df[\"code\"][18]\n",
    "print(sample1)\n",
    "\n",
    "classifier(sample1)"
   ],
   "id": "500a7b5e7cfeb15e",
   "outputs": [],
   "execution_count": null
  }
 ],
 "metadata": {
  "kernelspec": {
   "display_name": "Python 3",
   "language": "python",
   "name": "python3"
  },
  "language_info": {
   "codemirror_mode": {
    "name": "ipython",
    "version": 2
   },
   "file_extension": ".py",
   "mimetype": "text/x-python",
   "name": "python",
   "nbconvert_exporter": "python",
   "pygments_lexer": "ipython2",
   "version": "2.7.6"
  }
 },
 "nbformat": 4,
 "nbformat_minor": 5
}
