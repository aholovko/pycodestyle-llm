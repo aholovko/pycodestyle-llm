{
 "cells": [
  {
   "cell_type": "code",
   "id": "initial_id",
   "metadata": {
    "collapsed": true
   },
   "source": [
    "import pandas as pd\n",
    "from sklearn.model_selection import train_test_split"
   ],
   "outputs": [],
   "execution_count": null
  },
  {
   "metadata": {},
   "cell_type": "markdown",
   "source": "## Build training and validation split",
   "id": "5d90100b9e61781c"
  },
  {
   "metadata": {},
   "cell_type": "code",
   "source": [
    "files = ['../data/dataset_E101.csv', '../data/dataset_E111.csv', '../data/dataset_E112.csv']\n",
    "df = pd.concat([pd.read_csv(f) for f in files], ignore_index=True)"
   ],
   "id": "2cf9a5920cb71248",
   "outputs": [],
   "execution_count": null
  },
  {
   "metadata": {},
   "cell_type": "code",
   "source": [
    "train_pd_ds, val_pd_ds = train_test_split(\n",
    "    df,\n",
    "    test_size=0.2,  # 20% of the data goes into the validation set\n",
    "    random_state=48,  # seed for reproducibility\n",
    "    stratify=df[df.columns[2]]  # stratifying by the rule column to ensure representation of all categories\n",
    ")"
   ],
   "id": "7bf89fce9d907a17",
   "outputs": [],
   "execution_count": null
  },
  {
   "metadata": {},
   "cell_type": "markdown",
   "source": "## Create HuggingFace dataset",
   "id": "9e831541589e28ee"
  },
  {
   "metadata": {},
   "cell_type": "code",
   "source": [
    "from datasets import Dataset, DatasetDict, ClassLabel\n",
    "\n",
    "# reset index to avoid the \"__index_level_0__\" column\n",
    "train_pd_ds = train_pd_ds.reset_index(drop=True)\n",
    "val_pd_ds = val_pd_ds.reset_index(drop=True)\n",
    "\n",
    "train_hf_ds = Dataset.from_pandas(train_pd_ds)\n",
    "val_hf_ds = Dataset.from_pandas(val_pd_ds)\n",
    "\n",
    "label_feature = ClassLabel(num_classes=2, names=[\"non-compliant\", \"compliant\"])\n",
    "\n",
    "train_hf_ds = train_hf_ds.cast_column('label', label_feature)\n",
    "val_hf_ds = val_hf_ds.cast_column('label', label_feature)\n",
    "\n",
    "dataset_dict = DatasetDict({\n",
    "    'train': train_hf_ds,\n",
    "    'validation': val_hf_ds\n",
    "})\n"
   ],
   "id": "99a5a88d4a2055b4",
   "outputs": [],
   "execution_count": null
  },
  {
   "metadata": {},
   "cell_type": "markdown",
   "source": "## Push to HuggingFace hub",
   "id": "384fefe67935cfdf"
  },
  {
   "metadata": {},
   "cell_type": "code",
   "source": [
    "from huggingface_hub import create_repo, upload_file\n",
    "\n",
    "dataset_name = 'pep8_indentation_compliance'\n",
    "username = 'aholovko'\n",
    "token = ''\n",
    "\n",
    "# create the dataset repository\n",
    "repo_id = f\"{username}/{dataset_name}\"\n",
    "create_repo(repo_id, token=token)\n",
    "\n",
    "# save dataset_dict to the hub\n",
    "dataset_dict.push_to_hub(repo_id)\n",
    "\n",
    "# create a dataset card markdown file\n",
    "dataset_card_markdown = \"\"\"\n",
    "---\n",
    "dataset_info:\n",
    "  features:\n",
    "  - name: code\n",
    "    dtype: string\n",
    "  - name: label\n",
    "    dtype:\n",
    "      class_label:\n",
    "        names:\n",
    "          '0': non-compliant\n",
    "          '1': compliant\n",
    "  - name: rule\n",
    "    dtype: string\n",
    "  splits:\n",
    "  - name: train\n",
    "    num_bytes: 7127\n",
    "    num_examples: 96\n",
    "  - name: validation\n",
    "    num_bytes: 1726\n",
    "    num_examples: 24\n",
    "  download_size: 7422\n",
    "  dataset_size: 8853\n",
    "configs:\n",
    "- config_name: default\n",
    "  data_files:\n",
    "  - split: train\n",
    "    path: data/train-*\n",
    "  - split: validation\n",
    "    path: data/validation-*\n",
    "---\n",
    "\n",
    "# Dataset Name\n",
    "\n",
    "This dataset contains Python code samples and their compliance with specific PEP-8 indentation rules (E101, E111, and E112).\n",
    "\n",
    "## Dataset Structure\n",
    "\n",
    "**Features:**\n",
    "  - `code`: Python code snippet.\n",
    "  - `rule`: PEP-8 rule (E101, E111, or E112) that the code snippet is associated with.\n",
    "  - `label`: A binary label indicating compliance ('non-compliant' or 'compliant').\n",
    "\n",
    "## Usage\n",
    "\n",
    "This dataset can be used for training machine learning models for code compliance and style enforcement tasks.\n",
    "\"\"\"\n",
    "\n",
    "# save the dataset card to README.md file\n",
    "with open(\"README.md\", \"w\") as f:\n",
    "    f.write(dataset_card_markdown)\n",
    "\n",
    "# upload README.md to the repo\n",
    "upload_file(\n",
    "    path_or_fileobj=\"README.md\",\n",
    "    path_in_repo=\"README.md\",\n",
    "    repo_id=repo_id,\n",
    "    token=token\n",
    ")\n"
   ],
   "id": "e8748a81cd8a6e5d",
   "outputs": [],
   "execution_count": null
  }
 ],
 "metadata": {
  "kernelspec": {
   "display_name": "Python 3",
   "language": "python",
   "name": "python3"
  },
  "language_info": {
   "codemirror_mode": {
    "name": "ipython",
    "version": 2
   },
   "file_extension": ".py",
   "mimetype": "text/x-python",
   "name": "python",
   "nbconvert_exporter": "python",
   "pygments_lexer": "ipython2",
   "version": "2.7.6"
  }
 },
 "nbformat": 4,
 "nbformat_minor": 5
}
